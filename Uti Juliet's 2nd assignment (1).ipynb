{
 "cells": [
  {
   "cell_type": "markdown",
   "id": "eddf1a2b",
   "metadata": {},
   "source": [
    "1.# Write a function called show numbers that takes a parameter called limit. It should print\n",
    "all the numbers between 0 and limit with a label to identify the even and odd numbers.\n",
    "For example, if the limit is 3, it should print:0 EVEN 1 ODD 2 EVEN 3 ODD\n"
   ]
  },
  {
   "cell_type": "code",
   "execution_count": 1,
   "id": "adee96aa",
   "metadata": {},
   "outputs": [],
   "source": [
    "def show_numbers(limit):\n",
    "    for i in range(0,limit):\n",
    "        if i % 2 == 0:\n",
    "            print(i, 'EVEN')\n",
    "        if i % 2 > 0:\n",
    "            print(i, 'ODD')\n",
    "    "
   ]
  },
  {
   "cell_type": "code",
   "execution_count": 2,
   "id": "477e177c",
   "metadata": {},
   "outputs": [
    {
     "name": "stdout",
     "output_type": "stream",
     "text": [
      "0 EVEN\n",
      "1 ODD\n",
      "2 EVEN\n",
      "3 ODD\n",
      "4 EVEN\n",
      "5 ODD\n",
      "6 EVEN\n",
      "7 ODD\n",
      "8 EVEN\n",
      "9 ODD\n",
      "10 EVEN\n",
      "11 ODD\n"
     ]
    }
   ],
   "source": [
    "show_numbers(12)"
   ]
  },
  {
   "cell_type": "markdown",
   "id": "dfc41a44",
   "metadata": {},
   "source": [
    "#2 Write a function that returns the sum of multiples of 3 and 5 between 0 and limit (parameter). For example, if limit is 20, it should return the sum of 3, 5, 6, 9, 10,12, 15, 18, 20."
   ]
  },
  {
   "cell_type": "code",
   "execution_count": 5,
   "id": "6541a6b3",
   "metadata": {},
   "outputs": [],
   "source": [
    "def sum_of_multiples(limit):\n",
    "    for i in range(1,limit):\n",
    "        if i % 3 == 0 or i % 5 == 0:\n",
    "            print(i)\n",
    "    "
   ]
  },
  {
   "cell_type": "code",
   "execution_count": 6,
   "id": "b4c4ff04",
   "metadata": {},
   "outputs": [
    {
     "name": "stdout",
     "output_type": "stream",
     "text": [
      "3\n",
      "5\n",
      "6\n",
      "9\n",
      "10\n",
      "12\n",
      "15\n",
      "18\n",
      "20\n",
      "21\n",
      "24\n"
     ]
    }
   ],
   "source": [
    "sum_of_multiples(25)"
   ]
  },
  {
   "cell_type": "markdown",
   "id": "0e3b2de7",
   "metadata": {},
   "source": [
    "#3 Write a function called show_stars(rows). If rows is 5, it should print the following:*********"
   ]
  },
  {
   "cell_type": "code",
   "execution_count": 9,
   "id": "6ec2d894",
   "metadata": {},
   "outputs": [],
   "source": [
    "def show_star(row):\n",
    "    if row == 5:\n",
    "        print(10*'*')"
   ]
  },
  {
   "cell_type": "code",
   "execution_count": 10,
   "id": "4b345fa0",
   "metadata": {},
   "outputs": [
    {
     "name": "stdout",
     "output_type": "stream",
     "text": [
      "**********\n"
     ]
    }
   ],
   "source": [
    "show_star(5)"
   ]
  },
  {
   "cell_type": "markdown",
   "id": "458269c9",
   "metadata": {},
   "source": [
    "#4. Write a function that prints all the prime numbers between 0 and limit where limit is a parameter"
   ]
  },
  {
   "cell_type": "code",
   "execution_count": 12,
   "id": "70bfaf3f",
   "metadata": {},
   "outputs": [],
   "source": [
    "def prime_numbers(limit):   \n",
    "    for a in range(0, limit):    \n",
    "        if a > 1:                              \n",
    "            for i in range(2, a):              \n",
    "                if a % i== 0:\n",
    "                    break                        \n",
    "            else:                                 \n",
    "                print (a)"
   ]
  },
  {
   "cell_type": "code",
   "execution_count": 13,
   "id": "58abe216",
   "metadata": {},
   "outputs": [
    {
     "name": "stdout",
     "output_type": "stream",
     "text": [
      "2\n",
      "3\n",
      "5\n",
      "7\n",
      "11\n",
      "13\n",
      "17\n",
      "19\n"
     ]
    }
   ],
   "source": [
    "prime_numbers(20)"
   ]
  },
  {
   "cell_type": "markdown",
   "id": "1f2ea22f",
   "metadata": {},
   "source": [
    "#5 Write a program (function!) that takes a list and returns a new list that contains all the\n",
    "#elements of the first list minus all the duplicates.\n"
   ]
  },
  {
   "cell_type": "code",
   "execution_count": 16,
   "id": "6af16277",
   "metadata": {},
   "outputs": [],
   "source": [
    "def my_new_list():\n",
    "    list2 = [1,2,3,5,6,3,4,6,7,9,10,8]\n",
    "    print(list(set(list2)))"
   ]
  },
  {
   "cell_type": "code",
   "execution_count": 17,
   "id": "73617a23",
   "metadata": {},
   "outputs": [
    {
     "name": "stdout",
     "output_type": "stream",
     "text": [
      "[1, 2, 3, 4, 5, 6, 7, 8, 9, 10]\n"
     ]
    }
   ],
   "source": [
    "my_new_list()"
   ]
  },
  {
   "cell_type": "code",
   "execution_count": null,
   "id": "fd5809a4",
   "metadata": {},
   "outputs": [],
   "source": [
    "#6. Write a function to ask the user for a number and determine whether the number is prime or not."
   ]
  },
  {
   "cell_type": "code",
   "execution_count": 20,
   "id": "bec9f94d",
   "metadata": {},
   "outputs": [],
   "source": [
    "def prime_or_not():\n",
    "    A = int(input('Enter a number '))\n",
    "    if A % 2 > 0:\n",
    "        print(\"It's a prime number\")\n",
    "    else:\n",
    "        print(\"Not a prime number\")\n",
    "\n",
    "\n"
   ]
  },
  {
   "cell_type": "code",
   "execution_count": 21,
   "id": "db86d4a6",
   "metadata": {},
   "outputs": [
    {
     "name": "stdout",
     "output_type": "stream",
     "text": [
      "Enter a number 10\n",
      "Not a prime number\n"
     ]
    }
   ],
   "source": [
    "prime_or_not()"
   ]
  },
  {
   "cell_type": "markdown",
   "id": "59e64a7c",
   "metadata": {},
   "source": [
    "#7 Write a program that asks the user how many Fibonnaci numbers to generate and then generates them."
   ]
  },
  {
   "cell_type": "code",
   "execution_count": 4,
   "id": "1e8db9f1",
   "metadata": {},
   "outputs": [
    {
     "name": "stdout",
     "output_type": "stream",
     "text": [
      "How many Fibonacci numbers would you like me to create?:5\n",
      "[1, 1, 2, 3, 5]\n"
     ]
    }
   ],
   "source": [
    "number = int(input(\"How many Fibonacci numbers would you like me to create?:\"))\n",
    "if (number <= 0):\n",
    "    print(\"Number cannot be less than 1!\")\n",
    "else:\n",
    "    FibonacciArray = [0]*number\n",
    "    FibonacciArray[0] = 1\n",
    "    FibonacciCounter = 2\n",
    "    if (number > 1):\n",
    "        FibonacciArray[1] = 1\n",
    "    if (number > 2):\n",
    "        while FibonacciCounter < number:\n",
    "            FibonacciArray[FibonacciCounter] = FibonacciArray[FibonacciCounter - 2] + FibonacciArray[FibonacciCounter - 1]\n",
    "            FibonacciCounter = FibonacciCounter + 1 #increment FibonacciCounter\n",
    "    print(FibonacciArray)"
   ]
  },
  {
   "cell_type": "code",
   "execution_count": null,
   "id": "6841de94",
   "metadata": {},
   "outputs": [],
   "source": []
  },
  {
   "cell_type": "markdown",
   "id": "5e37f007",
   "metadata": {},
   "source": [
    "#8Write a function that ask the user for a string and print out whether this string is a palindrome or not."
   ]
  },
  {
   "cell_type": "code",
   "execution_count": 25,
   "id": "4a5e1406",
   "metadata": {},
   "outputs": [],
   "source": [
    "def palindrome_string():\n",
    "    A = input('Type in a word ').lower()\n",
    "    if A[0:]== A[::-1]:\n",
    "        print(\"It's a palindrome word\")\n",
    "    else:\n",
    "        print('Not a palindrome')"
   ]
  },
  {
   "cell_type": "code",
   "execution_count": 26,
   "id": "b0449e79",
   "metadata": {},
   "outputs": [
    {
     "name": "stdout",
     "output_type": "stream",
     "text": [
      "Type in a word Madam\n",
      "It's a palindrome word\n"
     ]
    }
   ],
   "source": [
    "palindrome_string()"
   ]
  },
  {
   "cell_type": "markdown",
   "id": "ade7270e",
   "metadata": {},
   "source": [
    "#9 Write a function that takes an ordered list of numbers (a list where the elements are in\n",
    "#order from smallest to largest) and another number.\n"
   ]
  },
  {
   "cell_type": "code",
   "execution_count": 27,
   "id": "5a32b195",
   "metadata": {},
   "outputs": [],
   "source": [
    "def ordered_list():\n",
    "    A = [1,2,3,4,2,5,4,6,7,8,3,9,7,10,11]\n",
    "    B = list(set(A))\n",
    "    B.append(12)\n",
    "    print(B)"
   ]
  },
  {
   "cell_type": "code",
   "execution_count": 28,
   "id": "cc22f10f",
   "metadata": {},
   "outputs": [
    {
     "name": "stdout",
     "output_type": "stream",
     "text": [
      "[1, 2, 3, 4, 5, 6, 7, 8, 9, 10, 11, 12]\n"
     ]
    }
   ],
   "source": [
    "ordered_list()"
   ]
  },
  {
   "cell_type": "markdown",
   "id": "65cfa96e",
   "metadata": {},
   "source": [
    "#10. Create a program that asks the user to enter their name and their age. Print out a\n",
    "#message addressed to them that tells them the year that they will turn 100 years old"
   ]
  },
  {
   "cell_type": "code",
   "execution_count": 29,
   "id": "9b4bc506",
   "metadata": {},
   "outputs": [
    {
     "name": "stdout",
     "output_type": "stream",
     "text": [
      "Type in Your Name Juliet\n",
      "Enter your Age 40\n",
      "Hello there! you will be 100 Years Old by year 2082\n"
     ]
    }
   ],
   "source": [
    "Name = input('Type in Your Name ')\n",
    "Age = int(input('Enter your Age '))\n",
    "A = 100 - Age\n",
    "Year = 2022 + A\n",
    "print('Hello there! you will be 100 Years Old by year {}'.format(Year))"
   ]
  },
  {
   "cell_type": "code",
   "execution_count": null,
   "id": "35d47d6d",
   "metadata": {},
   "outputs": [],
   "source": []
  }
 ],
 "metadata": {
  "kernelspec": {
   "display_name": "Python 3 (ipykernel)",
   "language": "python",
   "name": "python3"
  },
  "language_info": {
   "codemirror_mode": {
    "name": "ipython",
    "version": 3
   },
   "file_extension": ".py",
   "mimetype": "text/x-python",
   "name": "python",
   "nbconvert_exporter": "python",
   "pygments_lexer": "ipython3",
   "version": "3.9.12"
  }
 },
 "nbformat": 4,
 "nbformat_minor": 5
}
